{
 "cells": [
  {
   "cell_type": "markdown",
   "id": "fde60268",
   "metadata": {},
   "source": [
    "# Анализ показов рекламы "
   ]
  },
  {
   "cell_type": "markdown",
   "id": "e20b6faf",
   "metadata": {},
   "source": [
    "##### Александр Тиунов\n",
    "##### 2022 г."
   ]
  },
  {
   "cell_type": "markdown",
   "id": "b8dfb766",
   "metadata": {},
   "source": [
    "<h1>Оглавление<span class=\"tocSkip\"></span></h1>\n",
    "\n",
    "*  [Описание бизнес-проблемы](#Описание-бизнес-проблемы)\n",
    "    -  [Цель](#Цель)\n",
    "    *  [Бизнес задача](#Бизнес-задача)\n",
    "    *  [Описание](#Описание)\n",
    "    *  [Что требуется](#Что-требуется)\n",
    "*  [Поиск решения](#Поиск-решения)\n",
    "    *  [Шаг 1: импортируем библиотеки](#Шаг-1:-импортируем-библиотеки)\n",
    "    *  [Шаг 2: загрузка и изучение данных](#Шаг-2:-загрузка-и-изучение-данных)\n",
    "    -  [Шаг 3: Подготовка данных](#Шаг-3:-Подготовка-данных)\n",
    "    *  [Шаг 4: Обработка данных](#Шаг-4:-Обработка-данных)\n",
    "        * [Проверка выбросов](#Проверка-выбросов)\n",
    "        * [Распределение средних eCPM-ов юзеров для каждого формата рекламы](#Распределение-средних-eCPM-ов-юзеров-для-каждого-формата-рекламы)\n",
    "        * [Cредние eCPM по городам для всех видов рекламы](#Cредние-eCPM-по-городам-для-всех-видов-рекламы)\n",
    "        * [Cредние eCPM по городам для каждого формата рекламы](#Cредние-eCPM-по-городам-для-каждого-формата-рекламы)\n",
    "        * [Суммарные доходы по городам для каждого формата рекламы](#Суммарные-доходы-по-городам-для-каждого-формата-рекламы)\n",
    "        * [Диаграмма рассеяния Суммарный доход - Cредний eCPM](#Диаграмма-рассеяния-Суммарный-доход---Cредний-eCPM) \n",
    "        * [Cредний eCPM по версиям ОС](#Cредний-eCPM-по-версиям-ОС) \n",
    "        * [Cуммарные доходы по версиям ОС](#Cуммарные-доходы-по-версиям-ОС)\n",
    "        * [Cуммарные доходы по версиям ОС для каждого формата рекламы](#Cуммарные-доходы-по-версиям-ОС-для-каждого-формата-рекламы)\n",
    "        * [Зависимость прибыли от времени суток](#Зависимость-прибыли-от-времени-суток) \n",
    "\n",
    "*  [Выводы](#Выводы)"
   ]
  },
  {
   "cell_type": "markdown",
   "id": "ec35b3c5",
   "metadata": {},
   "source": [
    "# Описание бизнес-проблемы"
   ]
  },
  {
   "cell_type": "markdown",
   "id": "a2bd1e9e",
   "metadata": {},
   "source": [
    "## Цель\n",
    "* Выявление факторов, влияющих на доход от рекламы"
   ]
  },
  {
   "cell_type": "markdown",
   "id": "712af09d",
   "metadata": {},
   "source": [
    "## Бизнес задача\n",
    "\n",
    "* Провести исследование показов рекламы с целью понять на сколько\n",
    "отличается eCPM в зависимости от географии (города) юзера, версии ОС и\n",
    "других параметров. Интересны любые инсайты и находки по eCPM-ам."
   ]
  },
  {
   "cell_type": "markdown",
   "id": "1cc9bc36",
   "metadata": {},
   "source": [
    "## Описание\n",
    "\n",
    "Мобильная игра зарабатывает на показе рекламы. Есть несколько форматов:\n",
    "- int – полноэкранная реклама; \n",
    "- banner – горизонтальный баннер, висит внизу экрана пока юзер играет; \n",
    "- rv – видео, которое юзер смотрит по желанию и за просмотр получает монетки или др. ресурсы. \n",
    "\n",
    "Информация о каждом показе отправляется в аналитику. В нашем распоряжении таблица данных о показах рекламы. "
   ]
  },
  {
   "cell_type": "markdown",
   "id": "bf53561e",
   "metadata": {},
   "source": [
    "## Что требуется\n",
    "* Для каждого формата рекламы:\\\n",
    "a. построить [распределение средних eCPM-ов юзеров](#Распределение-средних-eCPM-ов-юзеров-для-каждого-формата-рекламы)\\\n",
    "b. отобразить [средние eCPM-ы по городам](#Cредние-eCPM-по-городам-для-каждого-формата-рекламы), [версиям ОС](#Cредний-eCPM-по-версиям-ОС) \\\n",
    "c. отобразить [cуммарные доходы по городам](#Суммарные-доходы-по-городам-для-каждого-формата-рекламы), [версиям ОС](#Cуммарные-доходы-по-версиям-ОС)\n",
    "* [Учесть статистическую значимость](#Проверка-выбросов) для п.1b (отобразить, отфильтровать незначимое или хотя бы прокомментировать). Объяснить решение.\n",
    "* [Описать наблюдения и вывод по исследованию.](#Выводы)"
   ]
  },
  {
   "cell_type": "markdown",
   "id": "8f610844",
   "metadata": {},
   "source": [
    "# Поиск решения"
   ]
  },
  {
   "cell_type": "markdown",
   "id": "1b9590e8",
   "metadata": {},
   "source": [
    "### Шаг 1: импортируем библиотеки"
   ]
  },
  {
   "cell_type": "code",
   "execution_count": 3,
   "id": "bb57dfc2",
   "metadata": {},
   "outputs": [],
   "source": [
    "#import pandas\n",
    "import pandas as pd \n",
    "import numpy as np\n",
    "import matplotlib.pyplot as plt\n",
    "import json\n",
    "import seaborn as sns"
   ]
  },
  {
   "cell_type": "markdown",
   "id": "54435114",
   "metadata": {},
   "source": [
    "### Шаг 2: загрузка и изучение данных"
   ]
  },
  {
   "cell_type": "code",
   "execution_count": 4,
   "id": "8e8c195b",
   "metadata": {},
   "outputs": [
    {
     "name": "stderr",
     "output_type": "stream",
     "text": [
      "C:\\Users\\User\\AppData\\Local\\Temp/ipykernel_4728/155205292.py:6: FutureWarning: The default value of regex will change from True to False in a future version.\n",
      "  df.columns = df.columns.str.replace('\\s+','_')\n"
     ]
    }
   ],
   "source": [
    "# read a csv\n",
    "# Изначально данные можно было загрузить прямо онлайн из drive.google.com\n",
    "# df = pd.read_csv(r'https://drive.google.com/uc?export=download&confirm=no_antivirus&id=1h2eXP4EyL8hYT2kZ0wmShAtp8Qz8HpNq', index_col=False)\n",
    "\n",
    "df = pd.read_csv(r'data\\us events ad_revenue filtered 03.02-07.02.csv')\n",
    "df.columns = df.columns.str.replace('\\s+','_')"
   ]
  },
  {
   "cell_type": "markdown",
   "id": "893dbce0",
   "metadata": {},
   "source": [
    "**Описание полей**\n",
    "\n",
    "- profile_id – id юзера\n",
    "- os_version - версия ос\n",
    "- device_manufacturer - производитель устройства\n",
    "- device_model - модель устройства\n",
    "- device_type - тип устройства (смартфон, планшет и т.п)\n",
    "- device_locale - локация \n",
    "- event_name - название события\n",
    "- event_json - содержит json структуру, в которой:\n",
    "    - ad_type – формат рекламы (int, banner или rv)\n",
    "    - placement – когда/где был показ рекламы в игре\n",
    "    - view_index – номер показа конкретного формата рекламы для юзера (не поддерживается для баннеров)\n",
    "    - revenue – доход от конкретного показа рекламы (eCPM = revenue * 1000)\n",
    "    - ads_ltv – накапливающийся доход от рекламы, равен сумме всех revenue юзера\n",
    "    - network_name – рекламная сеть, от которой был показ\n",
    "    - и др.\n",
    "- event_datetime и event_timestamp - дата и время ивента\n",
    "- event_receive_datetime и event_receive_timestamp - (???)\n",
    "- connection_type - тип соединения\n",
    "- operator_name - название мобильного оператора\n",
    "- country_iso_code - код страны\n",
    "- city - город"
   ]
  },
  {
   "cell_type": "markdown",
   "id": "b7901073",
   "metadata": {},
   "source": [
    "Посмотрим на имеющиеся данные"
   ]
  },
  {
   "cell_type": "code",
   "execution_count": 5,
   "id": "179ef471",
   "metadata": {
    "scrolled": true
   },
   "outputs": [
    {
     "data": {
      "text/html": [
       "<div>\n",
       "<style scoped>\n",
       "    .dataframe tbody tr th:only-of-type {\n",
       "        vertical-align: middle;\n",
       "    }\n",
       "\n",
       "    .dataframe tbody tr th {\n",
       "        vertical-align: top;\n",
       "    }\n",
       "\n",
       "    .dataframe thead th {\n",
       "        text-align: right;\n",
       "    }\n",
       "</style>\n",
       "<table border=\"1\" class=\"dataframe\">\n",
       "  <thead>\n",
       "    <tr style=\"text-align: right;\">\n",
       "      <th></th>\n",
       "      <th>profile_id</th>\n",
       "      <th>os_version</th>\n",
       "      <th>device_manufacturer</th>\n",
       "      <th>device_model</th>\n",
       "      <th>device_type</th>\n",
       "      <th>device_locale</th>\n",
       "      <th>event_name</th>\n",
       "      <th>event_json</th>\n",
       "      <th>event_datetime</th>\n",
       "      <th>event_timestamp</th>\n",
       "      <th>event_receive_datetime</th>\n",
       "      <th>event_receive_timestamp</th>\n",
       "      <th>connection_type</th>\n",
       "      <th>operator_name</th>\n",
       "      <th>country_iso_code</th>\n",
       "      <th>city</th>\n",
       "    </tr>\n",
       "  </thead>\n",
       "  <tbody>\n",
       "    <tr>\n",
       "      <th>0</th>\n",
       "      <td>JLjpGzDHBQm</td>\n",
       "      <td>11</td>\n",
       "      <td>Samsung</td>\n",
       "      <td>Galaxy Tab S6</td>\n",
       "      <td>tablet</td>\n",
       "      <td>en_US</td>\n",
       "      <td>c_ad_revenue</td>\n",
       "      <td>{\"ad_type\":\"banner\",\"placement\":\"\",\"view_index...</td>\n",
       "      <td>2022-02-04 20:02:28</td>\n",
       "      <td>1643994148</td>\n",
       "      <td>2022-02-06 17:58:19</td>\n",
       "      <td>1644159499</td>\n",
       "      <td>wifi</td>\n",
       "      <td>NaN</td>\n",
       "      <td>US</td>\n",
       "      <td>Norwalk</td>\n",
       "    </tr>\n",
       "    <tr>\n",
       "      <th>1</th>\n",
       "      <td>JLjpGzDHBQm</td>\n",
       "      <td>11</td>\n",
       "      <td>Samsung</td>\n",
       "      <td>Galaxy Tab S6</td>\n",
       "      <td>tablet</td>\n",
       "      <td>en_US</td>\n",
       "      <td>c_ad_revenue</td>\n",
       "      <td>{\"ad_type\":\"banner\",\"placement\":\"\",\"view_index...</td>\n",
       "      <td>2022-02-04 20:02:45</td>\n",
       "      <td>1643994165</td>\n",
       "      <td>2022-02-06 17:58:19</td>\n",
       "      <td>1644159499</td>\n",
       "      <td>wifi</td>\n",
       "      <td>NaN</td>\n",
       "      <td>US</td>\n",
       "      <td>Norwalk</td>\n",
       "    </tr>\n",
       "    <tr>\n",
       "      <th>2</th>\n",
       "      <td>JLkVacrzHY6</td>\n",
       "      <td>11</td>\n",
       "      <td>Google</td>\n",
       "      <td>Pixel 2</td>\n",
       "      <td>phone</td>\n",
       "      <td>en_US</td>\n",
       "      <td>c_ad_revenue</td>\n",
       "      <td>{\"ad_type\":\"banner\",\"placement\":\"\",\"view_index...</td>\n",
       "      <td>2022-02-05 17:53:05</td>\n",
       "      <td>1644072785</td>\n",
       "      <td>2022-02-06 16:59:29</td>\n",
       "      <td>1644155969</td>\n",
       "      <td>wifi</td>\n",
       "      <td>Verizon</td>\n",
       "      <td>US</td>\n",
       "      <td>Charlotte</td>\n",
       "    </tr>\n",
       "    <tr>\n",
       "      <th>3</th>\n",
       "      <td>JMC6wG3cX0f</td>\n",
       "      <td>10</td>\n",
       "      <td>Samsung</td>\n",
       "      <td>Galaxy S9</td>\n",
       "      <td>phone</td>\n",
       "      <td>en_US</td>\n",
       "      <td>c_ad_revenue</td>\n",
       "      <td>{\"ad_type\":\"int\",\"placement\":\"next_level\",\"vie...</td>\n",
       "      <td>2022-02-06 17:09:01</td>\n",
       "      <td>1644156541</td>\n",
       "      <td>2022-02-06 17:09:24</td>\n",
       "      <td>1644156564</td>\n",
       "      <td>wifi</td>\n",
       "      <td>T-Mobile</td>\n",
       "      <td>US</td>\n",
       "      <td>Cocoa</td>\n",
       "    </tr>\n",
       "    <tr>\n",
       "      <th>4</th>\n",
       "      <td>JLzWWTJfi1b</td>\n",
       "      <td>10</td>\n",
       "      <td>Samsung</td>\n",
       "      <td>Galaxy S9</td>\n",
       "      <td>phone</td>\n",
       "      <td>en_US</td>\n",
       "      <td>c_ad_revenue</td>\n",
       "      <td>{\"ad_type\":\"banner\",\"placement\":\"\",\"view_index...</td>\n",
       "      <td>2022-02-06 17:15:38</td>\n",
       "      <td>1644156938</td>\n",
       "      <td>2022-02-06 17:16:16</td>\n",
       "      <td>1644156976</td>\n",
       "      <td>cell</td>\n",
       "      <td>Verizon</td>\n",
       "      <td>US</td>\n",
       "      <td>NaN</td>\n",
       "    </tr>\n",
       "    <tr>\n",
       "      <th>...</th>\n",
       "      <td>...</td>\n",
       "      <td>...</td>\n",
       "      <td>...</td>\n",
       "      <td>...</td>\n",
       "      <td>...</td>\n",
       "      <td>...</td>\n",
       "      <td>...</td>\n",
       "      <td>...</td>\n",
       "      <td>...</td>\n",
       "      <td>...</td>\n",
       "      <td>...</td>\n",
       "      <td>...</td>\n",
       "      <td>...</td>\n",
       "      <td>...</td>\n",
       "      <td>...</td>\n",
       "      <td>...</td>\n",
       "    </tr>\n",
       "    <tr>\n",
       "      <th>860074</th>\n",
       "      <td>JLSQY2nx1NQ</td>\n",
       "      <td>12</td>\n",
       "      <td>Samsung</td>\n",
       "      <td>Galaxy S21 Ultra 5G</td>\n",
       "      <td>phone</td>\n",
       "      <td>en_US</td>\n",
       "      <td>c_ad_revenue</td>\n",
       "      <td>{\"ad_type\":\"banner\",\"placement\":\"\",\"view_index...</td>\n",
       "      <td>2022-02-03 08:29:27</td>\n",
       "      <td>1643866167</td>\n",
       "      <td>2022-02-03 08:29:37</td>\n",
       "      <td>1643866177</td>\n",
       "      <td>wifi</td>\n",
       "      <td>Verizon</td>\n",
       "      <td>US</td>\n",
       "      <td>Elmira</td>\n",
       "    </tr>\n",
       "    <tr>\n",
       "      <th>860075</th>\n",
       "      <td>JLKWwju79CA</td>\n",
       "      <td>12</td>\n",
       "      <td>Samsung</td>\n",
       "      <td>SM-G991U</td>\n",
       "      <td>phone</td>\n",
       "      <td>en_US</td>\n",
       "      <td>c_ad_revenue</td>\n",
       "      <td>{\"ad_type\":\"banner\",\"placement\":\"\",\"view_index...</td>\n",
       "      <td>2022-02-03 02:12:51</td>\n",
       "      <td>1643843571</td>\n",
       "      <td>2022-02-03 02:14:48</td>\n",
       "      <td>1643843688</td>\n",
       "      <td>cell</td>\n",
       "      <td>Verizon</td>\n",
       "      <td>US</td>\n",
       "      <td>Cherry Hill</td>\n",
       "    </tr>\n",
       "    <tr>\n",
       "      <th>860076</th>\n",
       "      <td>JLKWwju79CA</td>\n",
       "      <td>12</td>\n",
       "      <td>Samsung</td>\n",
       "      <td>SM-G991U</td>\n",
       "      <td>phone</td>\n",
       "      <td>en_US</td>\n",
       "      <td>c_ad_revenue</td>\n",
       "      <td>{\"ad_type\":\"banner\",\"placement\":\"\",\"view_index...</td>\n",
       "      <td>2022-02-03 02:13:06</td>\n",
       "      <td>1643843586</td>\n",
       "      <td>2022-02-03 02:14:48</td>\n",
       "      <td>1643843688</td>\n",
       "      <td>cell</td>\n",
       "      <td>Verizon</td>\n",
       "      <td>US</td>\n",
       "      <td>Cherry Hill</td>\n",
       "    </tr>\n",
       "    <tr>\n",
       "      <th>860077</th>\n",
       "      <td>JLKWwju79CA</td>\n",
       "      <td>12</td>\n",
       "      <td>Samsung</td>\n",
       "      <td>SM-G991U</td>\n",
       "      <td>phone</td>\n",
       "      <td>en_US</td>\n",
       "      <td>c_ad_revenue</td>\n",
       "      <td>{\"ad_type\":\"banner\",\"placement\":\"\",\"view_index...</td>\n",
       "      <td>2022-02-03 02:13:17</td>\n",
       "      <td>1643843597</td>\n",
       "      <td>2022-02-03 02:14:48</td>\n",
       "      <td>1643843688</td>\n",
       "      <td>cell</td>\n",
       "      <td>Verizon</td>\n",
       "      <td>US</td>\n",
       "      <td>Cherry Hill</td>\n",
       "    </tr>\n",
       "    <tr>\n",
       "      <th>860078</th>\n",
       "      <td>JLKWwju79CA</td>\n",
       "      <td>12</td>\n",
       "      <td>Samsung</td>\n",
       "      <td>SM-G991U</td>\n",
       "      <td>phone</td>\n",
       "      <td>en_US</td>\n",
       "      <td>c_ad_revenue</td>\n",
       "      <td>{\"ad_type\":\"banner\",\"placement\":\"\",\"view_index...</td>\n",
       "      <td>2022-02-03 03:11:44</td>\n",
       "      <td>1643847104</td>\n",
       "      <td>2022-02-03 21:12:34</td>\n",
       "      <td>1643911954</td>\n",
       "      <td>cell</td>\n",
       "      <td>Verizon</td>\n",
       "      <td>US</td>\n",
       "      <td>Cherry Hill</td>\n",
       "    </tr>\n",
       "  </tbody>\n",
       "</table>\n",
       "<p>860079 rows × 16 columns</p>\n",
       "</div>"
      ],
      "text/plain": [
       "         profile_id os_version device_manufacturer         device_model  \\\n",
       "0       JLjpGzDHBQm         11             Samsung        Galaxy Tab S6   \n",
       "1       JLjpGzDHBQm         11             Samsung        Galaxy Tab S6   \n",
       "2       JLkVacrzHY6         11              Google              Pixel 2   \n",
       "3       JMC6wG3cX0f         10             Samsung            Galaxy S9   \n",
       "4       JLzWWTJfi1b         10             Samsung            Galaxy S9   \n",
       "...             ...        ...                 ...                  ...   \n",
       "860074  JLSQY2nx1NQ         12             Samsung  Galaxy S21 Ultra 5G   \n",
       "860075  JLKWwju79CA         12             Samsung             SM-G991U   \n",
       "860076  JLKWwju79CA         12             Samsung             SM-G991U   \n",
       "860077  JLKWwju79CA         12             Samsung             SM-G991U   \n",
       "860078  JLKWwju79CA         12             Samsung             SM-G991U   \n",
       "\n",
       "       device_type device_locale    event_name  \\\n",
       "0           tablet         en_US  c_ad_revenue   \n",
       "1           tablet         en_US  c_ad_revenue   \n",
       "2            phone         en_US  c_ad_revenue   \n",
       "3            phone         en_US  c_ad_revenue   \n",
       "4            phone         en_US  c_ad_revenue   \n",
       "...            ...           ...           ...   \n",
       "860074       phone         en_US  c_ad_revenue   \n",
       "860075       phone         en_US  c_ad_revenue   \n",
       "860076       phone         en_US  c_ad_revenue   \n",
       "860077       phone         en_US  c_ad_revenue   \n",
       "860078       phone         en_US  c_ad_revenue   \n",
       "\n",
       "                                               event_json  \\\n",
       "0       {\"ad_type\":\"banner\",\"placement\":\"\",\"view_index...   \n",
       "1       {\"ad_type\":\"banner\",\"placement\":\"\",\"view_index...   \n",
       "2       {\"ad_type\":\"banner\",\"placement\":\"\",\"view_index...   \n",
       "3       {\"ad_type\":\"int\",\"placement\":\"next_level\",\"vie...   \n",
       "4       {\"ad_type\":\"banner\",\"placement\":\"\",\"view_index...   \n",
       "...                                                   ...   \n",
       "860074  {\"ad_type\":\"banner\",\"placement\":\"\",\"view_index...   \n",
       "860075  {\"ad_type\":\"banner\",\"placement\":\"\",\"view_index...   \n",
       "860076  {\"ad_type\":\"banner\",\"placement\":\"\",\"view_index...   \n",
       "860077  {\"ad_type\":\"banner\",\"placement\":\"\",\"view_index...   \n",
       "860078  {\"ad_type\":\"banner\",\"placement\":\"\",\"view_index...   \n",
       "\n",
       "             event_datetime  event_timestamp event_receive_datetime  \\\n",
       "0       2022-02-04 20:02:28       1643994148    2022-02-06 17:58:19   \n",
       "1       2022-02-04 20:02:45       1643994165    2022-02-06 17:58:19   \n",
       "2       2022-02-05 17:53:05       1644072785    2022-02-06 16:59:29   \n",
       "3       2022-02-06 17:09:01       1644156541    2022-02-06 17:09:24   \n",
       "4       2022-02-06 17:15:38       1644156938    2022-02-06 17:16:16   \n",
       "...                     ...              ...                    ...   \n",
       "860074  2022-02-03 08:29:27       1643866167    2022-02-03 08:29:37   \n",
       "860075  2022-02-03 02:12:51       1643843571    2022-02-03 02:14:48   \n",
       "860076  2022-02-03 02:13:06       1643843586    2022-02-03 02:14:48   \n",
       "860077  2022-02-03 02:13:17       1643843597    2022-02-03 02:14:48   \n",
       "860078  2022-02-03 03:11:44       1643847104    2022-02-03 21:12:34   \n",
       "\n",
       "        event_receive_timestamp connection_type operator_name  \\\n",
       "0                    1644159499            wifi           NaN   \n",
       "1                    1644159499            wifi           NaN   \n",
       "2                    1644155969            wifi       Verizon   \n",
       "3                    1644156564            wifi      T-Mobile   \n",
       "4                    1644156976            cell      Verizon    \n",
       "...                         ...             ...           ...   \n",
       "860074               1643866177            wifi      Verizon    \n",
       "860075               1643843688            cell      Verizon    \n",
       "860076               1643843688            cell      Verizon    \n",
       "860077               1643843688            cell      Verizon    \n",
       "860078               1643911954            cell      Verizon    \n",
       "\n",
       "       country_iso_code         city  \n",
       "0                    US      Norwalk  \n",
       "1                    US      Norwalk  \n",
       "2                    US    Charlotte  \n",
       "3                    US        Cocoa  \n",
       "4                    US          NaN  \n",
       "...                 ...          ...  \n",
       "860074               US       Elmira  \n",
       "860075               US  Cherry Hill  \n",
       "860076               US  Cherry Hill  \n",
       "860077               US  Cherry Hill  \n",
       "860078               US  Cherry Hill  \n",
       "\n",
       "[860079 rows x 16 columns]"
      ]
     },
     "execution_count": 5,
     "metadata": {},
     "output_type": "execute_result"
    }
   ],
   "source": [
    "df"
   ]
  },
  {
   "cell_type": "markdown",
   "id": "4c13afc8",
   "metadata": {},
   "source": [
    "###### Судя по значениям часть данных отсутствует\\\n",
    "* profile_id               860065 non-null  object\\\n",
    "* operator_name            841200 non-null  object\\\n",
    "* country_iso_code         860079 non-null  object\\\n",
    "* city                     536371 non-null  object\n",
    "\n",
    "###### В процентах отсутствующие данные составляют:"
   ]
  },
  {
   "cell_type": "code",
   "execution_count": 6,
   "id": "81596a0a",
   "metadata": {
    "scrolled": false
   },
   "outputs": [
    {
     "name": "stdout",
     "output_type": "stream",
     "text": [
      "***Количество пропусков***\n",
      "profile_id = 0.002%\n",
      "os_version = 0.000%\n",
      "device_manufacturer = 0.000%\n",
      "device_model = 0.000%\n",
      "device_type = 0.000%\n",
      "device_locale = 0.000%\n",
      "event_name = 0.000%\n",
      "event_json = 0.000%\n",
      "event_datetime = 0.000%\n",
      "event_timestamp = 0.000%\n",
      "event_receive_datetime = 0.000%\n",
      "event_receive_timestamp = 0.000%\n",
      "connection_type = 0.000%\n",
      "operator_name = 2.195%\n",
      "country_iso_code = 0.000%\n",
      "city = 37.637%\n"
     ]
    }
   ],
   "source": [
    "print ('***Количество пропусков***')\n",
    "for column in df.columns:\n",
    "    print(column ,'= {:.3%}'.format(df[column].isna().sum()/df.shape[0]))"
   ]
  },
  {
   "cell_type": "markdown",
   "id": "a5a2e0e7",
   "metadata": {},
   "source": [
    "Наибольшее число пропущенных данных city = 37.64%"
   ]
  },
  {
   "cell_type": "code",
   "execution_count": 7,
   "id": "301d90cc",
   "metadata": {},
   "outputs": [
    {
     "data": {
      "text/html": [
       "<div>\n",
       "<style scoped>\n",
       "    .dataframe tbody tr th:only-of-type {\n",
       "        vertical-align: middle;\n",
       "    }\n",
       "\n",
       "    .dataframe tbody tr th {\n",
       "        vertical-align: top;\n",
       "    }\n",
       "\n",
       "    .dataframe thead th {\n",
       "        text-align: right;\n",
       "    }\n",
       "</style>\n",
       "<table border=\"1\" class=\"dataframe\">\n",
       "  <thead>\n",
       "    <tr style=\"text-align: right;\">\n",
       "      <th></th>\n",
       "      <th>profile_id</th>\n",
       "      <th>os_version</th>\n",
       "      <th>device_manufacturer</th>\n",
       "      <th>device_model</th>\n",
       "      <th>device_type</th>\n",
       "      <th>device_locale</th>\n",
       "      <th>event_name</th>\n",
       "      <th>event_json</th>\n",
       "      <th>event_datetime</th>\n",
       "      <th>event_receive_datetime</th>\n",
       "      <th>connection_type</th>\n",
       "      <th>operator_name</th>\n",
       "      <th>country_iso_code</th>\n",
       "      <th>city</th>\n",
       "    </tr>\n",
       "  </thead>\n",
       "  <tbody>\n",
       "    <tr>\n",
       "      <th>count</th>\n",
       "      <td>860065</td>\n",
       "      <td>860079</td>\n",
       "      <td>860079</td>\n",
       "      <td>860079</td>\n",
       "      <td>860079</td>\n",
       "      <td>860079</td>\n",
       "      <td>860079</td>\n",
       "      <td>860079</td>\n",
       "      <td>860079</td>\n",
       "      <td>860079</td>\n",
       "      <td>860079</td>\n",
       "      <td>841200</td>\n",
       "      <td>860079</td>\n",
       "      <td>536371</td>\n",
       "    </tr>\n",
       "    <tr>\n",
       "      <th>unique</th>\n",
       "      <td>4226</td>\n",
       "      <td>11</td>\n",
       "      <td>34</td>\n",
       "      <td>284</td>\n",
       "      <td>2</td>\n",
       "      <td>9</td>\n",
       "      <td>1</td>\n",
       "      <td>860076</td>\n",
       "      <td>322812</td>\n",
       "      <td>180237</td>\n",
       "      <td>3</td>\n",
       "      <td>92</td>\n",
       "      <td>1</td>\n",
       "      <td>920</td>\n",
       "    </tr>\n",
       "    <tr>\n",
       "      <th>top</th>\n",
       "      <td>JL5pmKYe8g7</td>\n",
       "      <td>12</td>\n",
       "      <td>Samsung</td>\n",
       "      <td>Galaxy S21 Ultra 5G</td>\n",
       "      <td>phone</td>\n",
       "      <td>en_US</td>\n",
       "      <td>c_ad_revenue</td>\n",
       "      <td>{\"ad_type\":\"int\",\"placement\":\"lose_offer_attem...</td>\n",
       "      <td>2022-02-06 19:00:31</td>\n",
       "      <td>2022-02-06 19:00:32</td>\n",
       "      <td>wifi</td>\n",
       "      <td>Verizon</td>\n",
       "      <td>US</td>\n",
       "      <td>New York</td>\n",
       "    </tr>\n",
       "    <tr>\n",
       "      <th>freq</th>\n",
       "      <td>8486</td>\n",
       "      <td>407587</td>\n",
       "      <td>651633</td>\n",
       "      <td>54845</td>\n",
       "      <td>835667</td>\n",
       "      <td>856257</td>\n",
       "      <td>860079</td>\n",
       "      <td>2</td>\n",
       "      <td>555</td>\n",
       "      <td>651</td>\n",
       "      <td>624421</td>\n",
       "      <td>288720</td>\n",
       "      <td>860079</td>\n",
       "      <td>17584</td>\n",
       "    </tr>\n",
       "  </tbody>\n",
       "</table>\n",
       "</div>"
      ],
      "text/plain": [
       "         profile_id os_version device_manufacturer         device_model  \\\n",
       "count        860065     860079              860079               860079   \n",
       "unique         4226         11                  34                  284   \n",
       "top     JL5pmKYe8g7         12             Samsung  Galaxy S21 Ultra 5G   \n",
       "freq           8486     407587              651633                54845   \n",
       "\n",
       "       device_type device_locale    event_name  \\\n",
       "count       860079        860079        860079   \n",
       "unique           2             9             1   \n",
       "top          phone         en_US  c_ad_revenue   \n",
       "freq        835667        856257        860079   \n",
       "\n",
       "                                               event_json  \\\n",
       "count                                              860079   \n",
       "unique                                             860076   \n",
       "top     {\"ad_type\":\"int\",\"placement\":\"lose_offer_attem...   \n",
       "freq                                                    2   \n",
       "\n",
       "             event_datetime event_receive_datetime connection_type  \\\n",
       "count                860079                 860079          860079   \n",
       "unique               322812                 180237               3   \n",
       "top     2022-02-06 19:00:31    2022-02-06 19:00:32            wifi   \n",
       "freq                    555                    651          624421   \n",
       "\n",
       "       operator_name country_iso_code      city  \n",
       "count         841200           860079    536371  \n",
       "unique            92                1       920  \n",
       "top         Verizon                US  New York  \n",
       "freq          288720           860079     17584  "
      ]
     },
     "execution_count": 7,
     "metadata": {},
     "output_type": "execute_result"
    }
   ],
   "source": [
    "df.describe(include='object')"
   ]
  },
  {
   "cell_type": "code",
   "execution_count": 8,
   "id": "5cb4b653",
   "metadata": {},
   "outputs": [
    {
     "name": "stdout",
     "output_type": "stream",
     "text": [
      "Количество дубликатов в данных равно 0\n"
     ]
    }
   ],
   "source": [
    "print('Количество дубликатов в данных равно', df.duplicated().sum())"
   ]
  },
  {
   "cell_type": "code",
   "execution_count": 9,
   "id": "ede233bd",
   "metadata": {
    "scrolled": false
   },
   "outputs": [
    {
     "data": {
      "text/plain": [
       "{'ad_type': 'banner',\n",
       " 'placement': '',\n",
       " 'view_index': 1,\n",
       " 'session_view_index': 0,\n",
       " 'cur_ticks': 637795729492245130,\n",
       " 'session_length': 705.8807,\n",
       " 'revenue': 0.000510313,\n",
       " 'ads_ltv': 0.487876676518837,\n",
       " 'ecpm_sma': 0.511508107185364,\n",
       " 'normalized_ecpm_sma': 0.511508107185364,\n",
       " 'value': 0.000510313,\n",
       " 'currency': 'USD',\n",
       " 'ad_country_code': 'US',\n",
       " 'network_name': 'Google AdMob',\n",
       " 'ad_unit_id': '64c6b1114ea8c1cc',\n",
       " 'ad_network_placement': 'ca-app-pub-7511632782617496/8825263691',\n",
       " 'creativeId': 'CJ3XirfD5vUCFYPnKAUdG3MOYQ'}"
      ]
     },
     "execution_count": 9,
     "metadata": {},
     "output_type": "execute_result"
    }
   ],
   "source": [
    "# проверим event_json\n",
    "json.loads(df['event_json'][0])"
   ]
  },
  {
   "cell_type": "markdown",
   "id": "873289bc",
   "metadata": {},
   "source": [
    "### Шаг 3: Подготовка данных"
   ]
  },
  {
   "cell_type": "code",
   "execution_count": 10,
   "id": "6f1d00d5",
   "metadata": {},
   "outputs": [],
   "source": [
    "# Переведем тип данных в `datetime`\n",
    "df['event_datetime'] = pd.to_datetime(df['event_datetime'])"
   ]
  },
  {
   "cell_type": "code",
   "execution_count": 11,
   "id": "f96be797",
   "metadata": {},
   "outputs": [],
   "source": [
    "df = df.join(pd.json_normalize(df.event_json.apply(json.loads)))"
   ]
  },
  {
   "cell_type": "code",
   "execution_count": 12,
   "id": "ada65ab6",
   "metadata": {},
   "outputs": [
    {
     "data": {
      "text/html": [
       "<div>\n",
       "<style scoped>\n",
       "    .dataframe tbody tr th:only-of-type {\n",
       "        vertical-align: middle;\n",
       "    }\n",
       "\n",
       "    .dataframe tbody tr th {\n",
       "        vertical-align: top;\n",
       "    }\n",
       "\n",
       "    .dataframe thead th {\n",
       "        text-align: right;\n",
       "    }\n",
       "</style>\n",
       "<table border=\"1\" class=\"dataframe\">\n",
       "  <thead>\n",
       "    <tr style=\"text-align: right;\">\n",
       "      <th></th>\n",
       "      <th>profile_id</th>\n",
       "      <th>os_version</th>\n",
       "      <th>device_manufacturer</th>\n",
       "      <th>device_model</th>\n",
       "      <th>device_type</th>\n",
       "      <th>device_locale</th>\n",
       "      <th>event_name</th>\n",
       "      <th>event_json</th>\n",
       "      <th>event_datetime</th>\n",
       "      <th>event_timestamp</th>\n",
       "      <th>...</th>\n",
       "      <th>ads_ltv</th>\n",
       "      <th>ecpm_sma</th>\n",
       "      <th>normalized_ecpm_sma</th>\n",
       "      <th>value</th>\n",
       "      <th>currency</th>\n",
       "      <th>ad_country_code</th>\n",
       "      <th>network_name</th>\n",
       "      <th>ad_unit_id</th>\n",
       "      <th>ad_network_placement</th>\n",
       "      <th>creativeId</th>\n",
       "    </tr>\n",
       "  </thead>\n",
       "  <tbody>\n",
       "    <tr>\n",
       "      <th>0</th>\n",
       "      <td>JLjpGzDHBQm</td>\n",
       "      <td>11</td>\n",
       "      <td>Samsung</td>\n",
       "      <td>Galaxy Tab S6</td>\n",
       "      <td>tablet</td>\n",
       "      <td>en_US</td>\n",
       "      <td>c_ad_revenue</td>\n",
       "      <td>{\"ad_type\":\"banner\",\"placement\":\"\",\"view_index...</td>\n",
       "      <td>2022-02-04 20:02:28</td>\n",
       "      <td>1643994148</td>\n",
       "      <td>...</td>\n",
       "      <td>0.487877</td>\n",
       "      <td>0.511508</td>\n",
       "      <td>0.511508</td>\n",
       "      <td>0.000510</td>\n",
       "      <td>USD</td>\n",
       "      <td>US</td>\n",
       "      <td>Google AdMob</td>\n",
       "      <td>64c6b1114ea8c1cc</td>\n",
       "      <td>ca-app-pub-7511632782617496/8825263691</td>\n",
       "      <td>CJ3XirfD5vUCFYPnKAUdG3MOYQ</td>\n",
       "    </tr>\n",
       "    <tr>\n",
       "      <th>1</th>\n",
       "      <td>JLjpGzDHBQm</td>\n",
       "      <td>11</td>\n",
       "      <td>Samsung</td>\n",
       "      <td>Galaxy Tab S6</td>\n",
       "      <td>tablet</td>\n",
       "      <td>en_US</td>\n",
       "      <td>c_ad_revenue</td>\n",
       "      <td>{\"ad_type\":\"banner\",\"placement\":\"\",\"view_index...</td>\n",
       "      <td>2022-02-04 20:02:45</td>\n",
       "      <td>1643994165</td>\n",
       "      <td>...</td>\n",
       "      <td>0.488387</td>\n",
       "      <td>0.511389</td>\n",
       "      <td>0.511389</td>\n",
       "      <td>0.000510</td>\n",
       "      <td>USD</td>\n",
       "      <td>US</td>\n",
       "      <td>Google AdMob</td>\n",
       "      <td>64c6b1114ea8c1cc</td>\n",
       "      <td>ca-app-pub-7511632782617496/8825263691</td>\n",
       "      <td>CNa-lL_D5vUCFZrpKAUdU2QBDQ</td>\n",
       "    </tr>\n",
       "    <tr>\n",
       "      <th>2</th>\n",
       "      <td>JLkVacrzHY6</td>\n",
       "      <td>11</td>\n",
       "      <td>Google</td>\n",
       "      <td>Pixel 2</td>\n",
       "      <td>phone</td>\n",
       "      <td>en_US</td>\n",
       "      <td>c_ad_revenue</td>\n",
       "      <td>{\"ad_type\":\"banner\",\"placement\":\"\",\"view_index...</td>\n",
       "      <td>2022-02-05 17:53:05</td>\n",
       "      <td>1644072785</td>\n",
       "      <td>...</td>\n",
       "      <td>0.678479</td>\n",
       "      <td>0.928597</td>\n",
       "      <td>0.928597</td>\n",
       "      <td>0.002386</td>\n",
       "      <td>USD</td>\n",
       "      <td>US</td>\n",
       "      <td>APPLOVIN_EXCHANGE</td>\n",
       "      <td>64c6b1114ea8c1cc</td>\n",
       "      <td>banner_regular</td>\n",
       "      <td>pandora-58</td>\n",
       "    </tr>\n",
       "    <tr>\n",
       "      <th>3</th>\n",
       "      <td>JMC6wG3cX0f</td>\n",
       "      <td>10</td>\n",
       "      <td>Samsung</td>\n",
       "      <td>Galaxy S9</td>\n",
       "      <td>phone</td>\n",
       "      <td>en_US</td>\n",
       "      <td>c_ad_revenue</td>\n",
       "      <td>{\"ad_type\":\"int\",\"placement\":\"next_level\",\"vie...</td>\n",
       "      <td>2022-02-06 17:09:01</td>\n",
       "      <td>1644156541</td>\n",
       "      <td>...</td>\n",
       "      <td>0.013894</td>\n",
       "      <td>13.782633</td>\n",
       "      <td>13.893784</td>\n",
       "      <td>0.013894</td>\n",
       "      <td>USD</td>\n",
       "      <td>US</td>\n",
       "      <td>AppLovin</td>\n",
       "      <td>3ab7705b07ebb75f</td>\n",
       "      <td>inter_regular</td>\n",
       "      <td>13045364</td>\n",
       "    </tr>\n",
       "    <tr>\n",
       "      <th>4</th>\n",
       "      <td>JLzWWTJfi1b</td>\n",
       "      <td>10</td>\n",
       "      <td>Samsung</td>\n",
       "      <td>Galaxy S9</td>\n",
       "      <td>phone</td>\n",
       "      <td>en_US</td>\n",
       "      <td>c_ad_revenue</td>\n",
       "      <td>{\"ad_type\":\"banner\",\"placement\":\"\",\"view_index...</td>\n",
       "      <td>2022-02-06 17:15:38</td>\n",
       "      <td>1644156938</td>\n",
       "      <td>...</td>\n",
       "      <td>0.060571</td>\n",
       "      <td>1.660282</td>\n",
       "      <td>1.660282</td>\n",
       "      <td>0.006828</td>\n",
       "      <td>USD</td>\n",
       "      <td>US</td>\n",
       "      <td>Google AdMob</td>\n",
       "      <td>64c6b1114ea8c1cc</td>\n",
       "      <td>ca-app-pub-7511632782617496/6197324251</td>\n",
       "      <td>CMTi5e-h6_UCFUdVwQodt9EIMw</td>\n",
       "    </tr>\n",
       "    <tr>\n",
       "      <th>...</th>\n",
       "      <td>...</td>\n",
       "      <td>...</td>\n",
       "      <td>...</td>\n",
       "      <td>...</td>\n",
       "      <td>...</td>\n",
       "      <td>...</td>\n",
       "      <td>...</td>\n",
       "      <td>...</td>\n",
       "      <td>...</td>\n",
       "      <td>...</td>\n",
       "      <td>...</td>\n",
       "      <td>...</td>\n",
       "      <td>...</td>\n",
       "      <td>...</td>\n",
       "      <td>...</td>\n",
       "      <td>...</td>\n",
       "      <td>...</td>\n",
       "      <td>...</td>\n",
       "      <td>...</td>\n",
       "      <td>...</td>\n",
       "      <td>...</td>\n",
       "    </tr>\n",
       "    <tr>\n",
       "      <th>860074</th>\n",
       "      <td>JLSQY2nx1NQ</td>\n",
       "      <td>12</td>\n",
       "      <td>Samsung</td>\n",
       "      <td>Galaxy S21 Ultra 5G</td>\n",
       "      <td>phone</td>\n",
       "      <td>en_US</td>\n",
       "      <td>c_ad_revenue</td>\n",
       "      <td>{\"ad_type\":\"banner\",\"placement\":\"\",\"view_index...</td>\n",
       "      <td>2022-02-03 08:29:27</td>\n",
       "      <td>1643866167</td>\n",
       "      <td>...</td>\n",
       "      <td>1.007506</td>\n",
       "      <td>0.080914</td>\n",
       "      <td>0.080914</td>\n",
       "      <td>0.000020</td>\n",
       "      <td>USD</td>\n",
       "      <td>US</td>\n",
       "      <td>APPLOVIN_EXCHANGE</td>\n",
       "      <td>64c6b1114ea8c1cc</td>\n",
       "      <td>banner_regular</td>\n",
       "      <td>165277</td>\n",
       "    </tr>\n",
       "    <tr>\n",
       "      <th>860075</th>\n",
       "      <td>JLKWwju79CA</td>\n",
       "      <td>12</td>\n",
       "      <td>Samsung</td>\n",
       "      <td>SM-G991U</td>\n",
       "      <td>phone</td>\n",
       "      <td>en_US</td>\n",
       "      <td>c_ad_revenue</td>\n",
       "      <td>{\"ad_type\":\"banner\",\"placement\":\"\",\"view_index...</td>\n",
       "      <td>2022-02-03 02:12:51</td>\n",
       "      <td>1643843571</td>\n",
       "      <td>...</td>\n",
       "      <td>0.277541</td>\n",
       "      <td>3.379858</td>\n",
       "      <td>3.379858</td>\n",
       "      <td>0.006740</td>\n",
       "      <td>USD</td>\n",
       "      <td>US</td>\n",
       "      <td>Google AdMob</td>\n",
       "      <td>64c6b1114ea8c1cc</td>\n",
       "      <td>ca-app-pub-7511632782617496/6197324251</td>\n",
       "      <td>CMeYrb2S4vUCFZWVyAodrPYHvA</td>\n",
       "    </tr>\n",
       "    <tr>\n",
       "      <th>860076</th>\n",
       "      <td>JLKWwju79CA</td>\n",
       "      <td>12</td>\n",
       "      <td>Samsung</td>\n",
       "      <td>SM-G991U</td>\n",
       "      <td>phone</td>\n",
       "      <td>en_US</td>\n",
       "      <td>c_ad_revenue</td>\n",
       "      <td>{\"ad_type\":\"banner\",\"placement\":\"\",\"view_index...</td>\n",
       "      <td>2022-02-03 02:13:06</td>\n",
       "      <td>1643843586</td>\n",
       "      <td>...</td>\n",
       "      <td>0.280321</td>\n",
       "      <td>3.319878</td>\n",
       "      <td>3.319878</td>\n",
       "      <td>0.002780</td>\n",
       "      <td>USD</td>\n",
       "      <td>US</td>\n",
       "      <td>Google AdMob</td>\n",
       "      <td>64c6b1114ea8c1cc</td>\n",
       "      <td>ca-app-pub-7511632782617496/4884242584</td>\n",
       "      <td>CNrdyMCS4vUCFRNXcgodTqsMOA</td>\n",
       "    </tr>\n",
       "    <tr>\n",
       "      <th>860077</th>\n",
       "      <td>JLKWwju79CA</td>\n",
       "      <td>12</td>\n",
       "      <td>Samsung</td>\n",
       "      <td>SM-G991U</td>\n",
       "      <td>phone</td>\n",
       "      <td>en_US</td>\n",
       "      <td>c_ad_revenue</td>\n",
       "      <td>{\"ad_type\":\"banner\",\"placement\":\"\",\"view_index...</td>\n",
       "      <td>2022-02-03 02:13:17</td>\n",
       "      <td>1643843597</td>\n",
       "      <td>...</td>\n",
       "      <td>0.283101</td>\n",
       "      <td>3.265896</td>\n",
       "      <td>3.265896</td>\n",
       "      <td>0.002780</td>\n",
       "      <td>USD</td>\n",
       "      <td>US</td>\n",
       "      <td>Google AdMob</td>\n",
       "      <td>64c6b1114ea8c1cc</td>\n",
       "      <td>ca-app-pub-7511632782617496/4884242584</td>\n",
       "      <td>CJnr0ciS4vUCFQ7HhwodgC8HVw</td>\n",
       "    </tr>\n",
       "    <tr>\n",
       "      <th>860078</th>\n",
       "      <td>JLKWwju79CA</td>\n",
       "      <td>12</td>\n",
       "      <td>Samsung</td>\n",
       "      <td>SM-G991U</td>\n",
       "      <td>phone</td>\n",
       "      <td>en_US</td>\n",
       "      <td>c_ad_revenue</td>\n",
       "      <td>{\"ad_type\":\"banner\",\"placement\":\"\",\"view_index...</td>\n",
       "      <td>2022-02-03 03:11:44</td>\n",
       "      <td>1643847104</td>\n",
       "      <td>...</td>\n",
       "      <td>0.285881</td>\n",
       "      <td>3.217312</td>\n",
       "      <td>3.217312</td>\n",
       "      <td>0.002780</td>\n",
       "      <td>USD</td>\n",
       "      <td>US</td>\n",
       "      <td>Google AdMob</td>\n",
       "      <td>64c6b1114ea8c1cc</td>\n",
       "      <td>ca-app-pub-7511632782617496/4884242584</td>\n",
       "      <td>CLbXws2S4vUCFQk9hwodpIsKXQ</td>\n",
       "    </tr>\n",
       "  </tbody>\n",
       "</table>\n",
       "<p>860079 rows × 33 columns</p>\n",
       "</div>"
      ],
      "text/plain": [
       "         profile_id os_version device_manufacturer         device_model  \\\n",
       "0       JLjpGzDHBQm         11             Samsung        Galaxy Tab S6   \n",
       "1       JLjpGzDHBQm         11             Samsung        Galaxy Tab S6   \n",
       "2       JLkVacrzHY6         11              Google              Pixel 2   \n",
       "3       JMC6wG3cX0f         10             Samsung            Galaxy S9   \n",
       "4       JLzWWTJfi1b         10             Samsung            Galaxy S9   \n",
       "...             ...        ...                 ...                  ...   \n",
       "860074  JLSQY2nx1NQ         12             Samsung  Galaxy S21 Ultra 5G   \n",
       "860075  JLKWwju79CA         12             Samsung             SM-G991U   \n",
       "860076  JLKWwju79CA         12             Samsung             SM-G991U   \n",
       "860077  JLKWwju79CA         12             Samsung             SM-G991U   \n",
       "860078  JLKWwju79CA         12             Samsung             SM-G991U   \n",
       "\n",
       "       device_type device_locale    event_name  \\\n",
       "0           tablet         en_US  c_ad_revenue   \n",
       "1           tablet         en_US  c_ad_revenue   \n",
       "2            phone         en_US  c_ad_revenue   \n",
       "3            phone         en_US  c_ad_revenue   \n",
       "4            phone         en_US  c_ad_revenue   \n",
       "...            ...           ...           ...   \n",
       "860074       phone         en_US  c_ad_revenue   \n",
       "860075       phone         en_US  c_ad_revenue   \n",
       "860076       phone         en_US  c_ad_revenue   \n",
       "860077       phone         en_US  c_ad_revenue   \n",
       "860078       phone         en_US  c_ad_revenue   \n",
       "\n",
       "                                               event_json      event_datetime  \\\n",
       "0       {\"ad_type\":\"banner\",\"placement\":\"\",\"view_index... 2022-02-04 20:02:28   \n",
       "1       {\"ad_type\":\"banner\",\"placement\":\"\",\"view_index... 2022-02-04 20:02:45   \n",
       "2       {\"ad_type\":\"banner\",\"placement\":\"\",\"view_index... 2022-02-05 17:53:05   \n",
       "3       {\"ad_type\":\"int\",\"placement\":\"next_level\",\"vie... 2022-02-06 17:09:01   \n",
       "4       {\"ad_type\":\"banner\",\"placement\":\"\",\"view_index... 2022-02-06 17:15:38   \n",
       "...                                                   ...                 ...   \n",
       "860074  {\"ad_type\":\"banner\",\"placement\":\"\",\"view_index... 2022-02-03 08:29:27   \n",
       "860075  {\"ad_type\":\"banner\",\"placement\":\"\",\"view_index... 2022-02-03 02:12:51   \n",
       "860076  {\"ad_type\":\"banner\",\"placement\":\"\",\"view_index... 2022-02-03 02:13:06   \n",
       "860077  {\"ad_type\":\"banner\",\"placement\":\"\",\"view_index... 2022-02-03 02:13:17   \n",
       "860078  {\"ad_type\":\"banner\",\"placement\":\"\",\"view_index... 2022-02-03 03:11:44   \n",
       "\n",
       "        event_timestamp  ...   ads_ltv   ecpm_sma normalized_ecpm_sma  \\\n",
       "0            1643994148  ...  0.487877   0.511508            0.511508   \n",
       "1            1643994165  ...  0.488387   0.511389            0.511389   \n",
       "2            1644072785  ...  0.678479   0.928597            0.928597   \n",
       "3            1644156541  ...  0.013894  13.782633           13.893784   \n",
       "4            1644156938  ...  0.060571   1.660282            1.660282   \n",
       "...                 ...  ...       ...        ...                 ...   \n",
       "860074       1643866167  ...  1.007506   0.080914            0.080914   \n",
       "860075       1643843571  ...  0.277541   3.379858            3.379858   \n",
       "860076       1643843586  ...  0.280321   3.319878            3.319878   \n",
       "860077       1643843597  ...  0.283101   3.265896            3.265896   \n",
       "860078       1643847104  ...  0.285881   3.217312            3.217312   \n",
       "\n",
       "           value currency ad_country_code       network_name  \\\n",
       "0       0.000510      USD              US       Google AdMob   \n",
       "1       0.000510      USD              US       Google AdMob   \n",
       "2       0.002386      USD              US  APPLOVIN_EXCHANGE   \n",
       "3       0.013894      USD              US           AppLovin   \n",
       "4       0.006828      USD              US       Google AdMob   \n",
       "...          ...      ...             ...                ...   \n",
       "860074  0.000020      USD              US  APPLOVIN_EXCHANGE   \n",
       "860075  0.006740      USD              US       Google AdMob   \n",
       "860076  0.002780      USD              US       Google AdMob   \n",
       "860077  0.002780      USD              US       Google AdMob   \n",
       "860078  0.002780      USD              US       Google AdMob   \n",
       "\n",
       "              ad_unit_id                    ad_network_placement  \\\n",
       "0       64c6b1114ea8c1cc  ca-app-pub-7511632782617496/8825263691   \n",
       "1       64c6b1114ea8c1cc  ca-app-pub-7511632782617496/8825263691   \n",
       "2       64c6b1114ea8c1cc                          banner_regular   \n",
       "3       3ab7705b07ebb75f                           inter_regular   \n",
       "4       64c6b1114ea8c1cc  ca-app-pub-7511632782617496/6197324251   \n",
       "...                  ...                                     ...   \n",
       "860074  64c6b1114ea8c1cc                          banner_regular   \n",
       "860075  64c6b1114ea8c1cc  ca-app-pub-7511632782617496/6197324251   \n",
       "860076  64c6b1114ea8c1cc  ca-app-pub-7511632782617496/4884242584   \n",
       "860077  64c6b1114ea8c1cc  ca-app-pub-7511632782617496/4884242584   \n",
       "860078  64c6b1114ea8c1cc  ca-app-pub-7511632782617496/4884242584   \n",
       "\n",
       "                        creativeId  \n",
       "0       CJ3XirfD5vUCFYPnKAUdG3MOYQ  \n",
       "1       CNa-lL_D5vUCFZrpKAUdU2QBDQ  \n",
       "2                       pandora-58  \n",
       "3                         13045364  \n",
       "4       CMTi5e-h6_UCFUdVwQodt9EIMw  \n",
       "...                            ...  \n",
       "860074                      165277  \n",
       "860075  CMeYrb2S4vUCFZWVyAodrPYHvA  \n",
       "860076  CNrdyMCS4vUCFRNXcgodTqsMOA  \n",
       "860077  CJnr0ciS4vUCFQ7HhwodgC8HVw  \n",
       "860078  CLbXws2S4vUCFQk9hwodpIsKXQ  \n",
       "\n",
       "[860079 rows x 33 columns]"
      ]
     },
     "execution_count": 12,
     "metadata": {},
     "output_type": "execute_result"
    }
   ],
   "source": [
    "df"
   ]
  },
  {
   "cell_type": "markdown",
   "id": "46ffd1f2",
   "metadata": {},
   "source": [
    "Посмотрим какие значения есть и проверим на ошибки."
   ]
  },
  {
   "cell_type": "code",
   "execution_count": 13,
   "id": "c250d358",
   "metadata": {},
   "outputs": [
    {
     "data": {
      "text/plain": [
       "array(['banner', 'int', 'rv'], dtype=object)"
      ]
     },
     "execution_count": 13,
     "metadata": {},
     "output_type": "execute_result"
    }
   ],
   "source": [
    "df['ad_type'].unique()"
   ]
  },
  {
   "cell_type": "code",
   "execution_count": 14,
   "id": "c35ce05a",
   "metadata": {},
   "outputs": [
    {
     "data": {
      "text/plain": [
       "array(['tablet', 'phone'], dtype=object)"
      ]
     },
     "execution_count": 14,
     "metadata": {},
     "output_type": "execute_result"
    }
   ],
   "source": [
    "df['device_type'].unique()"
   ]
  },
  {
   "cell_type": "code",
   "execution_count": 15,
   "id": "e7c17f9c",
   "metadata": {},
   "outputs": [
    {
     "data": {
      "text/plain": [
       "920"
      ]
     },
     "execution_count": 15,
     "metadata": {},
     "output_type": "execute_result"
    }
   ],
   "source": [
    "df['city'].nunique()"
   ]
  },
  {
   "cell_type": "markdown",
   "id": "ff3bc9dd",
   "metadata": {},
   "source": [
    "Для 'city'\n",
    "- Сменим регистр\n",
    "- Уберем пробел в начале или в конце строки"
   ]
  },
  {
   "cell_type": "code",
   "execution_count": 16,
   "id": "71d749df",
   "metadata": {},
   "outputs": [
    {
     "name": "stdout",
     "output_type": "stream",
     "text": [
      "920\n"
     ]
    }
   ],
   "source": [
    "print(df['city'].str.lower().str.lower().str.strip(' \\r').str.lstrip().nunique())\n",
    "# df['city'].replace([' ', '', 'nan'], np.NaN, inplace=True)"
   ]
  },
  {
   "cell_type": "markdown",
   "id": "3cb3e2cb",
   "metadata": {},
   "source": [
    "Число значений не изменилось, значит, в столбце 'city' данные не требуют очистки."
   ]
  },
  {
   "cell_type": "markdown",
   "id": "f1e0230d",
   "metadata": {},
   "source": [
    "### Шаг 4: Обработка данных\n",
    "Для каждого формата рекламы:\\\n",
    "a. построить [распределение средних eCPM-ов юзеров](#Распределение-средних-eCPM-ов-юзеров-для-каждого-формата-рекламы)\\\n",
    "b. отобразить [средние eCPM-ы по городам](#Cредние-eCPM-по-городам-для-каждого-формата-рекламы), [версиям ОС](#Cредний-eCPM-по-версиям-ОС) \\\n",
    "c. отобразить [cуммарные доходы по городам](#Суммарные-доходы-по-городам-для-каждого-формата-рекламы), [версиям ОС](#Cуммарные-доходы-по-версиям-ОС)"
   ]
  },
  {
   "cell_type": "markdown",
   "id": "2c3537fb",
   "metadata": {},
   "source": [
    "### Проверка выбросов"
   ]
  },
  {
   "cell_type": "code",
   "execution_count": 17,
   "id": "8b4d4ace",
   "metadata": {
    "scrolled": true
   },
   "outputs": [
    {
     "data": {
      "text/plain": [
       "<seaborn.axisgrid.FacetGrid at 0x150364518e0>"
      ]
     },
     "execution_count": 17,
     "metadata": {},
     "output_type": "execute_result"
    },
    {
     "data": {
      "image/png": "[encoded data removed]",
      "text/plain": [
       "<Figure size 756x324 with 3 Axes>"
      ]
     },
     "metadata": {
      "needs_background": "light"
     },
     "output_type": "display_data"
    }
   ],
   "source": [
    "sns.catplot(x='mean_ecpm',\n",
    "            row='ad_type',\n",
    "            data=(df.groupby([\"ad_type\",df[\"profile_id\"]]).revenue.mean()*1000).rename(\"mean_ecpm\").reset_index(),\n",
    "            kind=\"box\",\n",
    "            sharex=False,\n",
    "            aspect=7,\n",
    "            height=1.5\n",
    ")"
   ]
  },
  {
   "cell_type": "markdown",
   "id": "8281a857",
   "metadata": {},
   "source": [
    "Видим, что для всех типов рекламы наблюдаются выбросы в значениях eCPM. Если важны средние показатели, то эти значения стоит отбросить. "
   ]
  },
  {
   "cell_type": "code",
   "execution_count": 18,
   "id": "e81b490a",
   "metadata": {},
   "outputs": [],
   "source": [
    "df_full_screen = df.query('ad_type == \"int\"')\n",
    "df_banner = df.query('ad_type == \"banner\"')\n",
    "df_video = df.query('ad_type == \"rv\"')"
   ]
  },
  {
   "cell_type": "markdown",
   "id": "4ef11044",
   "metadata": {},
   "source": [
    "### Распределение средних eCPM-ов юзеров для каждого формата рекламы"
   ]
  },
  {
   "cell_type": "code",
   "execution_count": 19,
   "id": "ece9a0d3",
   "metadata": {},
   "outputs": [
    {
     "data": {
      "image/png": "[encoded data removed]",
      "text/plain": [
       "<Figure size 1080x288 with 3 Axes>"
      ]
     },
     "metadata": {
      "needs_background": "light"
     },
     "output_type": "display_data"
    }
   ],
   "source": [
    "axs = (df.groupby([\"ad_type\",df[\"profile_id\"]]).revenue.mean()*1000) \\\n",
    "    .hist(bins=50, by='ad_type', figsize=(15,4),layout=(1,3))\n",
    "for a in axs:\n",
    "    a.set_xlabel(\"mean ecpm\")\n",
    "plt.suptitle(\"Распределение средних eCPM пользователей для каждого типа рекламы\",y=1.05);"
   ]
  },
  {
   "cell_type": "markdown",
   "id": "9d31a218",
   "metadata": {},
   "source": [
    "## Cредние eCPM по городам для всех видов рекламы\n",
    "\n",
    "Наиболее важной является информация по лидерам дохода, поэтому ограничим список из 920 городов списком ТОП-20 "
   ]
  },
  {
   "cell_type": "code",
   "execution_count": 62,
   "id": "baf56c24",
   "metadata": {},
   "outputs": [],
   "source": [
    "ecmp_per_city_mean = df.groupby('city')\\\n",
    ".agg({'revenue':'mean'})\\\n",
    ".sort_values(by='revenue', ascending=False)\\\n",
    ".head(20).sort_values(by='revenue')"
   ]
  },
  {
   "cell_type": "code",
   "execution_count": 63,
   "id": "56e65a39",
   "metadata": {
    "scrolled": false
   },
   "outputs": [
    {
     "data": {
      "text/plain": [
       "<AxesSubplot:ylabel='city'>"
      ]
     },
     "execution_count": 63,
     "metadata": {},
     "output_type": "execute_result"
    },
    {
     "data": {
      "image/png": "[encoded data removed]",
      "text/plain": [
       "<Figure size 720x432 with 1 Axes>"
      ]
     },
     "metadata": {
      "needs_background": "light"
     },
     "output_type": "display_data"
    }
   ],
   "source": [
    "fig, axes = plt.subplots()\n",
    "for i in range(ecmp_per_city_mean.size):\n",
    "    a = axes.text(ecmp_per_city_mean[\"revenue\"][i]+(ecmp_per_city_mean[\"revenue\"][i]*1000), \n",
    "                  i, ecmp_per_city_mean[\"revenue\"][i]*1000,  \n",
    "                  verticalalignment='center')\n",
    "(ecmp_per_city_mean[\"revenue\"]*1000).plot(kind = 'barh', figsize = (10, 6), grid = True)"
   ]
  },
  {
   "cell_type": "markdown",
   "id": "af581605",
   "metadata": {},
   "source": [
    "### Cредние eCPM по городам для каждого формата рекламы"
   ]
  },
  {
   "cell_type": "code",
   "execution_count": 60,
   "id": "cd562653",
   "metadata": {},
   "outputs": [
    {
     "data": {
      "text/plain": [
       "<seaborn.axisgrid.FacetGrid at 0x150a7f03490>"
      ]
     },
     "execution_count": 60,
     "metadata": {},
     "output_type": "execute_result"
    },
    {
     "data": {
      "image/png": "[encoded data removed]",
      "text/plain": [
       "<Figure size 1080x360 with 3 Axes>"
      ]
     },
     "metadata": {
      "needs_background": "light"
     },
     "output_type": "display_data"
    }
   ],
   "source": [
    "sns.catplot(\n",
    "    data=(df.groupby([\"ad_type\",df[\"city\"]]).revenue.mean()*1000).rename(\"mean_eCPM\") \\\n",
    "    .groupby('ad_type', group_keys=False).nlargest(20).reset_index(),\n",
    "    y='city',\n",
    "    x='mean_eCPM',\n",
    "    col='ad_type',\n",
    "    kind='bar',\n",
    "    color='blue',\n",
    "    sharex=False,\n",
    "    sharey=False\n",
    ")"
   ]
  },
  {
   "cell_type": "markdown",
   "id": "2725d814",
   "metadata": {},
   "source": [
    "В качестве гипотез следует проверить:\n",
    "1. Средний доход населения по городам;\n",
    "2. Количество жителей;\n",
    "3. Количество различных возрастных групп. "
   ]
  },
  {
   "cell_type": "markdown",
   "id": "23f4049e",
   "metadata": {},
   "source": [
    "### Суммарные доходы по городам для каждого формата рекламы"
   ]
  },
  {
   "cell_type": "code",
   "execution_count": 65,
   "id": "daa52a7d",
   "metadata": {},
   "outputs": [
    {
     "name": "stderr",
     "output_type": "stream",
     "text": [
      "C:\\Users\\User\\anaconda3\\lib\\site-packages\\seaborn\\categorical.py:3808: UserWarning: Setting `sharey=False` with `color=None` may cause different levels of the `y` variable to share colors. This will change in a future version.\n",
      "  warnings.warn(msg.format(\"sharey\", \"y\"), UserWarning)\n"
     ]
    },
    {
     "data": {
      "text/plain": [
       "<seaborn.axisgrid.FacetGrid at 0x1509445f610>"
      ]
     },
     "execution_count": 65,
     "metadata": {},
     "output_type": "execute_result"
    },
    {
     "data": {
      "image/png": "[encoded data removed]",
      "text/plain": [
       "<Figure size 1080x360 with 3 Axes>"
      ]
     },
     "metadata": {
      "needs_background": "light"
     },
     "output_type": "display_data"
    }
   ],
   "source": [
    "sns.catplot(\n",
    "    data=(df.groupby([\"ad_type\",df[\"city\"]], sort=False).revenue.sum()) \\\n",
    "    .groupby('ad_type', group_keys=False).nlargest(20).reset_index(),\n",
    "    y='city',\n",
    "    x='revenue',\n",
    "    col='ad_type',\n",
    "    kind='bar',\n",
    "    sharey=False,\n",
    "    sharex=True\n",
    ")"
   ]
  },
  {
   "cell_type": "markdown",
   "id": "1270f3d4",
   "metadata": {},
   "source": [
    "Крупные города, такие как New York оказались лидерами по фактическому доходу. При этом список лидеров по доходу отличается от лидеров по среднему eCPM. Чтобы понять, есть ли взаимосвязь реального дохода и среднего eCPM, построим диаграмму рассеяния."
   ]
  },
  {
   "cell_type": "markdown",
   "id": "4accb443",
   "metadata": {},
   "source": [
    "### Диаграмма рассеяния Суммарный доход - Cредний eCPM"
   ]
  },
  {
   "cell_type": "code",
   "execution_count": 24,
   "id": "a4541198",
   "metadata": {},
   "outputs": [],
   "source": [
    "df_sum = (df.groupby([\"ad_type\",df[\"city\"]]).revenue.sum()).rename('total').sort_values(ascending=False).reset_index()\n",
    "df_mean = df.groupby([\"ad_type\", df[\"city\"]]).revenue.mean()\\\n",
    ".rename(\"mean_eCPM\").sort_values(ascending=False).reset_index()\n",
    "df_merge = pd.merge(df_mean, df_sum, on = ('city', 'ad_type'))"
   ]
  },
  {
   "cell_type": "code",
   "execution_count": 25,
   "id": "b0a35839",
   "metadata": {
    "scrolled": false
   },
   "outputs": [
    {
     "name": "stderr",
     "output_type": "stream",
     "text": [
      "C:\\Users\\User\\anaconda3\\lib\\site-packages\\seaborn\\_decorators.py:36: FutureWarning: Pass the following variables as keyword args: x, y. From version 0.12, the only valid positional argument will be `data`, and passing other arguments without an explicit keyword will result in an error or misinterpretation.\n",
      "  warnings.warn(\n"
     ]
    },
    {
     "data": {
      "text/plain": [
       "<AxesSubplot:xlabel='total', ylabel='mean_eCPM'>"
      ]
     },
     "execution_count": 25,
     "metadata": {},
     "output_type": "execute_result"
    },
    {
     "data": {
      "image/png": "[encoded data removed]",
      "text/plain": [
       "<Figure size 432x288 with 1 Axes>"
      ]
     },
     "metadata": {
      "needs_background": "light"
     },
     "output_type": "display_data"
    }
   ],
   "source": [
    "sns.regplot('total', 'mean_eCPM', data=df_merge)"
   ]
  },
  {
   "cell_type": "markdown",
   "id": "30bcd8ce",
   "metadata": {},
   "source": [
    "На общих данных не заметно какой-либо корреляции между реальным доходом и средним eCPM. На случай, если имеет место смешение данных, стоит рассмотреть данные для каждого вида рекламы по отдельности."
   ]
  },
  {
   "cell_type": "code",
   "execution_count": 26,
   "id": "ef984eef",
   "metadata": {
    "scrolled": false
   },
   "outputs": [
    {
     "data": {
      "text/plain": [
       "<matplotlib.legend.Legend at 0x150ac42fa30>"
      ]
     },
     "execution_count": 26,
     "metadata": {},
     "output_type": "execute_result"
    },
    {
     "data": {
      "image/png": "[encoded data removed]",
      "text/plain": [
       "<Figure size 432x288 with 1 Axes>"
      ]
     },
     "metadata": {
      "needs_background": "light"
     },
     "output_type": "display_data"
    }
   ],
   "source": [
    "fig, ax = plt.subplots()\n",
    "ax.scatter(x = df_merge[df_merge['ad_type'] == 'int']['total'], \n",
    "           y = df_merge[df_merge['ad_type'] == 'int']['mean_eCPM']*1000, s= 50,\n",
    "            c = 'r', alpha=0.5)\n",
    "ax.scatter(x = df_merge[df_merge['ad_type'] == 'banner']['total'], \n",
    "           y = df_merge[df_merge['ad_type'] == 'banner']['mean_eCPM']*1000, s= 50,\n",
    "            c = 'g', alpha=0.5)\n",
    "ax.scatter(x = df_merge[df_merge['ad_type'] == 'rv']['total'], \n",
    "           y = df_merge[df_merge['ad_type'] == 'rv']['mean_eCPM']*1000, s= 50,\n",
    "            c = 'b', alpha=0.5)\n",
    "plt.rc('figure', figsize=(10, 6))\n",
    "ax.set_title('Диаграмма рассеяния Суммарный доход - Cредний eCPM')\n",
    "ax.set_xlabel('Суммарный доход')\n",
    "ax.set_ylabel('Cредний eCPM')\n",
    "ax.legend(['int – полноэкранная реклама','banner – горизонтальный баннер', 'rv – видео'])"
   ]
  },
  {
   "cell_type": "markdown",
   "id": "8cc457b2",
   "metadata": {},
   "source": [
    "Из диаграммы рассеяния видно, что корреляция между реальным доходом и средним eCPM ярко заметна для горизонтального баннера. Для полноэкранной рекламы (int) и видео(rv) данные отображаются хаотично и яркой зависимости между реальным доходом и средним eCPM не показывают. В сочетании с [распределением средних eCPM-ов юзеров для каждого формата рекламы](#Распределение-средних-eCPM-ов-юзеров-для-каждого-формата-рекламы) можно сделать вывод, что в этих видах рекламы есть либо смешение данных, либо ошибка при учете и неправильный ввод исходных данных. \\\n",
    "При смешении данных необходимо:\n",
    "1. Выявить признаки, которыми отличаются рассматриваемые группы (мобильный оператор, рекламная сеть и т.д.).\n",
    "2. Разделить группы данных и рассмотреть их по отдельности.\\\n",
    "\n",
    "При выявлении ошибки ввода:\n",
    "1. Произвести фильтрацию некорректных данных.\n",
    "2. Рассмотреть отфильтрованные данные."
   ]
  },
  {
   "cell_type": "markdown",
   "id": "489bead8",
   "metadata": {},
   "source": [
    "### Cредний eCPM по версиям ОС"
   ]
  },
  {
   "cell_type": "code",
   "execution_count": 27,
   "id": "7b5e48b1",
   "metadata": {},
   "outputs": [
    {
     "name": "stderr",
     "output_type": "stream",
     "text": [
      "C:\\Users\\User\\anaconda3\\lib\\site-packages\\seaborn\\categorical.py:3806: UserWarning: Setting `sharex=False` with `color=None` may cause different levels of the `x` variable to share colors. This will change in a future version.\n",
      "  warnings.warn(msg.format(\"sharex\", \"x\"), UserWarning)\n"
     ]
    },
    {
     "data": {
      "text/plain": [
       "<seaborn.axisgrid.FacetGrid at 0x150abff7df0>"
      ]
     },
     "execution_count": 27,
     "metadata": {},
     "output_type": "execute_result"
    },
    {
     "data": {
      "image/png": "[encoded data removed]",
      "text/plain": [
       "<Figure size 1080x360 with 3 Axes>"
      ]
     },
     "metadata": {
      "needs_background": "light"
     },
     "output_type": "display_data"
    }
   ],
   "source": [
    "sns.catplot(\n",
    "    data=(df.groupby([\"ad_type\",\"os_version\"])\n",
    "    .revenue.mean().rename(\"mean_ecpm\").sort_values(ascending=False)*1000).reset_index(),\n",
    "    x='os_version',\n",
    "    y='mean_ecpm',\n",
    "    col='ad_type',\n",
    "    kind='bar',\n",
    "    sharex=False,\n",
    "    sharey=False,\n",
    ")"
   ]
  },
  {
   "cell_type": "markdown",
   "id": "4c227df0",
   "metadata": {},
   "source": [
    "Очевидно, устройства с версиями Android 7.0, 9, 10, 11, 12 выглядят самыми многообещающими"
   ]
  },
  {
   "cell_type": "markdown",
   "id": "db85f6ea",
   "metadata": {},
   "source": [
    "### Cуммарные доходы по версиям ОС\n",
    "\n",
    "Мы рассмотрим распределение суммарных доходов по версиям Android, то есть, доход в абсолютном выражении."
   ]
  },
  {
   "cell_type": "code",
   "execution_count": 28,
   "id": "06663deb",
   "metadata": {},
   "outputs": [],
   "source": [
    "grouped_OS = df.groupby(by=['os_version']).agg({'revenue':'sum'}).sort_values(by='revenue', ascending=False)"
   ]
  },
  {
   "cell_type": "code",
   "execution_count": 29,
   "id": "61a2e347",
   "metadata": {},
   "outputs": [
    {
     "data": {
      "text/plain": [
       "<AxesSubplot:xlabel='os_version'>"
      ]
     },
     "execution_count": 29,
     "metadata": {},
     "output_type": "execute_result"
    },
    {
     "data": {
      "image/png": "[encoded data removed]",
      "text/plain": [
       "<Figure size 720x360 with 1 Axes>"
      ]
     },
     "metadata": {
      "needs_background": "light"
     },
     "output_type": "display_data"
    }
   ],
   "source": [
    "fig, axes = plt.subplots()\n",
    "grouped_OS[\"revenue\"].plot(kind = 'bar', figsize = (10, 5), grid = True)"
   ]
  },
  {
   "cell_type": "markdown",
   "id": "76537d0e",
   "metadata": {},
   "source": [
    "Наибольший доход принесли устройства с версиями ОС 9, 10, 11, 12.\\\n",
    "Версия 7.0 несмотря на высокий eCPM в абсолютном выражении существенного вклада в доход не внесла.\\\n",
    "В качестве гипотез для проверки можно предположить возможные причины:\n",
    "1. Прекращение поддержки старых устройств разработчиками и маркетами;\n",
    "2. Устройства с операционными системами меньше 9 имеют малый объем памяти и слабый процессор, что не располагает к установке игр;\n",
    "3. К высокому eCPM версии ОС 7.0 привел не учтенный в исследовании фактор;\n",
    "4. Покупатели новых устройств более склонны тратить время на игры, чем владельцы менее современных устройств."
   ]
  },
  {
   "cell_type": "markdown",
   "id": "4ed2fdf6",
   "metadata": {},
   "source": [
    "### Cуммарные доходы по версиям ОС для каждого формата рекламы"
   ]
  },
  {
   "cell_type": "code",
   "execution_count": 30,
   "id": "6dff45a4",
   "metadata": {
    "scrolled": false
   },
   "outputs": [
    {
     "data": {
      "text/plain": [
       "<seaborn.axisgrid.FacetGrid at 0x150b499fb20>"
      ]
     },
     "execution_count": 30,
     "metadata": {},
     "output_type": "execute_result"
    },
    {
     "data": {
      "image/png": "[encoded data removed]",
      "text/plain": [
       "<Figure size 1080x360 with 3 Axes>"
      ]
     },
     "metadata": {
      "needs_background": "light"
     },
     "output_type": "display_data"
    }
   ],
   "source": [
    "sns.catplot(\n",
    "    data=(df.groupby([\"ad_type\",df[\"os_version\"].fillna(\"no-info\")],sort=False)\n",
    "          .revenue.sum().rename(\"total_revenue\").sort_values(ascending=False)).reset_index(),\n",
    "    x='os_version',\n",
    "    y='total_revenue',\n",
    "    col='ad_type',\n",
    "    kind='bar',\n",
    "    sharey=False\n",
    ")"
   ]
  },
  {
   "cell_type": "markdown",
   "id": "19be5ace",
   "metadata": {},
   "source": [
    "При рассмотрении дохода от каждого типа рекламы картина не изменилась - наибольший фактический доход приносят устройства с версиями ОС 9, 10, 11, 12. Также определено, что наибольший доход приносит int – полноэкранная реклама, наименьший rv – видео, которое юзер смотрит по желанию."
   ]
  },
  {
   "cell_type": "markdown",
   "id": "8761fd09",
   "metadata": {},
   "source": [
    "### Зависимость прибыли от времени суток"
   ]
  },
  {
   "cell_type": "markdown",
   "id": "d1fb339c",
   "metadata": {},
   "source": [
    "Посмотрим, как выглядит распределение событий по времени"
   ]
  },
  {
   "cell_type": "code",
   "execution_count": 31,
   "id": "cfbc4a4d",
   "metadata": {
    "scrolled": true
   },
   "outputs": [
    {
     "data": {
      "image/png": "[encoded data removed]",
      "text/plain": [
       "<Figure size 1008x360 with 1 Axes>"
      ]
     },
     "metadata": {
      "needs_background": "light"
     },
     "output_type": "display_data"
    }
   ],
   "source": [
    "df['event_datetime'].hist(bins=400, figsize=(14, 5)).set_title('Распределение событий по часам')\n",
    "plt.xticks(rotation=60)\n",
    "plt.show()"
   ]
  },
  {
   "cell_type": "code",
   "execution_count": 32,
   "id": "96119b16",
   "metadata": {},
   "outputs": [],
   "source": [
    "df['event_receive_datetime_hour'] = pd.to_datetime(df['event_datetime']).dt.hour"
   ]
  },
  {
   "cell_type": "code",
   "execution_count": 38,
   "id": "201f023f",
   "metadata": {},
   "outputs": [
    {
     "data": {
      "image/png": "[encoded data removed]",
      "text/plain": [
       "<Figure size 720x432 with 1 Axes>"
      ]
     },
     "metadata": {
      "needs_background": "light"
     },
     "output_type": "display_data"
    }
   ],
   "source": [
    "ad_df = df.pivot_table(index = 'event_receive_datetime_hour', values='revenue', aggfunc= 'sum').reset_index()\n",
    "sns.lineplot(data = ad_df, x = 'event_receive_datetime_hour', y = 'revenue')\\\n",
    ".set(title = 'Зависимость прибыли от времени суток', xlabel = 'Время в часах', ylabel = 'Доход')\n",
    "plt.grid()"
   ]
  },
  {
   "cell_type": "markdown",
   "id": "19c5ef10",
   "metadata": {},
   "source": [
    "## Выводы"
   ]
  },
  {
   "cell_type": "markdown",
   "id": "bc399f15",
   "metadata": {},
   "source": [
    "На основании проведенного нами исследования мы можем сделать следующие выводы:\n",
    "\n",
    "1. Большинство распределений данных являются экспоненциальными, в связи с чем лидеры делают наибольшую часть всей прибыли.\n",
    "2. Лидерами выручки являются:\n",
    "* Среди городов: Нью-Йорк, Хьюстон, Миннеаполис;\n",
    "* Среди версий Android: 12, 11, 10;\n",
    "* По времени суток: 5 утра;\n",
    "* По типам рекмы: полноэкранная реклама.\n",
    "\n",
    "<b>Выводы по анализу eCPM</b>\n",
    "\n",
    "Картина лидеров по доходу отличается от лидеров по среднему eCPM. \n",
    "Из диаграммы рассеяния видно, что корреляция между реальным доходом и средним eCPM ярко заметна только для горизонтального баннера. Для полноэкранной рекламы (int) и видео (rv) данные отображаются хаотично и яркой зависимости между реальным доходом и средним eCPM не показывают. В сочетании с распределением средних eCPM-ов юзеров для каждого формата рекламы можно сделать вывод, что в этих видах рекламы есть либо смешение данных, либо ошибка при учете и неправильный ввод исходных данных.\n",
    "Необходимо провести дополнительное исследование на предмет смешения или корректности данных.\n",
    "Если ориентироваться на eCPM, то лидеры: \n",
    "* Среди версий Android: 7.0, 12, 11;\n",
    "* Среди городов: Rohnert Park, Lake Worth, Fredericksburg.\n",
    "\n",
    "С довольно высокими eCPM эти города могут поднять реальный доход, если увеличится количество просмотров. Это может быть связано с реальными ограничениями, такими как число жителей.\n",
    "\n",
    "<b>Гипотезы для проверки</b>\n",
    "1. Причина, по которой современные устройства пользователей приносят больше прибыли;\n",
    "2. Как влияет на прибыль рекламная сеть, мобильный оператор, производитель устройства и т.д;\n",
    "3. Влияние количества жителей на количество просмотров рекламы."
   ]
  }
 ],
 "metadata": {
  "kernelspec": {
   "display_name": "Python 3 (ipykernel)",
   "language": "python",
   "name": "python3"
  },
  "language_info": {
   "codemirror_mode": {
    "name": "ipython",
    "version": 3
   },
   "file_extension": ".py",
   "mimetype": "text/x-python",
   "name": "python",
   "nbconvert_exporter": "python",
   "pygments_lexer": "ipython3",
   "version": "3.9.7"
  }
 },
 "nbformat": 4,
 "nbformat_minor": 5
}
